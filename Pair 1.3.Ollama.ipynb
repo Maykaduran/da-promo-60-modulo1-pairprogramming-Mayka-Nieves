{
 "cells": [
  {
   "cell_type": "code",
   "execution_count": null,
   "id": "02066274",
   "metadata": {},
   "outputs": [],
   "source": [
    "# >>> >>> Voy a diseñar una base de datos para gestionar conferencias académicas.\n",
    "# ...\n",
    "# ... **Entidades:**\n",
    "# ... - Conferencias (nombre, año, ciudad, fecha_inicio, fecha_fin, tema_principal)\n",
    "# ... - Ponentes (nombre, institucion, pais, email, especialidad)\n",
    "# ... - Ponencias (titulo, resumen, duracion_minutos, tipo: oral/poster)\n",
    "# ... - Sesiones (nombre, sala, fecha, hora_inicio, hora_fin)\n",
    "# ... - Asistentes (nombre, email, institucion, pais, tipo_registro: estudiante/profesional)\n",
    "# ...\n",
    "# ... **Relaciones:**\n",
    "# ... - Una conferencia → muchas sesiones\n",
    "# ... - Una sesión → muchas ponencias\n",
    "# ... - Una ponencia → una sesión y una conferencia\n",
    "# ... - Una ponencia ↔ varios ponentes (muchos a muchos)\n",
    "# ... - Un ponente ↔ varias ponencias (muchos a muchos)\n",
    "# ... - Un asistente ↔ varias conferencias (muchos a muchos, con fecha de inscripción)\n",
    "# ...\n",
    "# ... Antes de generar SQL, ayúdame a entender:\n",
    "# ...\n",
    "# ... 1. ¿Cuántas tablas necesito en total? (incluye tablas intermedias para relaciones N:M)\n",
    "# ... 2. ¿Qué tablas intermedias son necesarias y por qué?\n",
    "# ... 3. ¿Hay alguna relación que pueda estar mal planteada?\n",
    "# ... 4. ¿Qué información adicional podría ser útil capturar?\n"
   ]
  },
  {
   "cell_type": "markdown",
   "id": "1f33fbd9",
   "metadata": {},
   "source": [
    " 1. En total, tendrías que crear 6 tablas en la base de datos: Conferencias, Ponentes, Ponencias, Sesiones, Asistentes y una tabla intermedia para manejar las relaciones muchos a muchos entre \n",
    "Ponencias y Ponentes llamada \"Ponentes_Ponencias\".\n",
    "\n",
    "2. La tabla intermedia \"Ponentes_Ponencias\" es necesaria porque en la relación muchos a muchos entre Ponentes y Ponencias no se puede definir directamente en SQL (sin embargo, en algunas bases de      \n",
    "datos como PostgreSQL o MySQL, puedes crear una tabla intermedia para manejar esta relación).\n",
    "\n",
    "3. No parece que haya relaciones mal planteadas en tu modelo actual, sin embargo, es importante recordar que es posible que en el caso de las relaciones muchos a muchos tengas que agregar una \n",
    "columna para identificar claves foráneas en la tabla intermedia \"Ponentes_Ponencias\" y asignarla como llave primaria en esta tabla.\n",
    "\n",
    "4. Algunas informaciones adicionales que podrían ser útiles capturar:\n",
    "   - En Ponencias, incluir una columna para la descripción detallada de cada ponencia.\n",
    "   - En Asistentes, incluir una columna para la edad del asistente (si se considera relevante).\n",
    "   - En Conferencias, incluir una columna para la información del organizador de la conferencia y una columna para el enlace a la página web de registro de asistentes."
   ]
  },
  {
   "cell_type": "code",
   "execution_count": null,
   "id": "3b4ca2d0",
   "metadata": {},
   "outputs": [],
   "source": [
    "# >>> Basándome en tu respuesta anterior, tengo estas tablas principales:\n",
    "# 1. conferencias\n",
    "# 2. sesiones\n",
    "# 3. ponencias\n",
    "# 4. ponentes\n",
    "# 5. asistentes\n",
    "# 6. ponencias_ponentes (tabla intermedia)\n",
    "# 7. inscripciones (tabla intermedia conferencias-asistentes)\n",
    "\n",
    "# Valida si este diseño cumple con la Tercera Forma Normal (3FN):\n",
    "# - ¿Hay redundancia de datos?\n",
    "# - ¿Todas las columnas dependen solo de la clave primaria?\n",
    "# - ¿Hay dependencias transitivas que deba eliminar?\n",
    "# - ¿Falta alguna tabla o sobra alguna?\n",
    "\n",
    "# Dame feedback específico sobre cada tabla."
   ]
  },
  {
   "cell_type": "markdown",
   "id": "8acd3492",
   "metadata": {},
   "source": [
    "Dame feedback específico sobre cada tabla.\n",
    " El diseño propuesto cumple con la Tercera Forma Normal (3FN) en la medida en que se ha minimizado la redundancia de datos y se han eliminado las dependencias transitivas. A continuación, te \n",
    "proporciono un feedback específico sobre cada tabla:\n",
    "\n",
    "1. conferencias - Está bien definida, incluye los atributos relevantes sin ninguna dependencia transitoria.\n",
    "2. sesiones - Incluye todos los atributos pertinentes y no hay redundancia de datos ni dependencias transitivas.\n",
    "3. ponencias - Incluye todos los atributos pertinentes, pero es posible que la descripción detallada sea una redundancia de datos si ya se proporciona en el archivo PDF o presentación de cada \n",
    "ponencia. Si se considera importante incluirla aquí, sería necesario agregar un trigger que actualice automáticamente esta columna desde la fuente original. En este caso, no es una violación de        \n",
    "3FN pero puede generar redundancia de datos en los futuros cambios de la descripción detallada.\n",
    "4. ponentes - Incluye todos los atributos pertinentes y no hay redundancia de datos ni dependencias transitivas.\n",
    "5. asistentes - Incluye todos los atributos pertinentes, pero es posible que la edad sea una redundancia de datos si ya se proporciona en el archivo de registro o en alguno de los documentos \n",
    "identificativos del asistente (pasaporte, cédula, etc.). Si se considera importante incluirla aquí, sería necesario agregar un trigger que actualice automáticamente esta columna desde la fuente        \n",
    "original. En este caso, no es una violación de 3FN pero puede generar redundancia de datos en los futuros cambios de edad.\n",
    "6. ponencias_ponentes - Esta tabla intermedia se utiliza para manejar la relación muchos a muchos entre las entidades Ponencias y Ponentes y no hay ninguna violación de 3FN en esta tabla.\n",
    "7. inscripciones - Es una tabla intermedia necesaria para mantener la relación muchos a muchos entre Conferencias y Asistentes, incluyendo fecha de registro (que es importante tener almacenada en      \n",
    "caso de alguna consulta o reporte que requiera información sobre las fechas de inscripción). No hay violaciones de 3FN en esta tabla.\n",
    "\n"
   ]
  },
  {
   "cell_type": "code",
   "execution_count": null,
   "id": "729a7bfd",
   "metadata": {},
   "outputs": [],
   "source": [
    "# >>> Para cada tabla del esquema, ¿qué tipos de datos (INT, VARCHAR, DATE, DATETIME, DECIMAL, TEXT, ENUM) \n",
    "# debería usar para cada columna?\n",
    "\n",
    "# Explícame específicamente:\n",
    "# 1. ¿Por qué usar TEXT vs VARCHAR para columnas como 'resumen'?\n",
    "# 2. ¿Debería usar DATE o DATETIME para fechas de conferencias?\n",
    "# 3. ¿ENUM es apropiado para 'tipo' en ponencias (oral/poster) y 'tipo_registro' en asistentes?\n",
    "# 4. ¿Qué longitud de VARCHAR para emails? ¿Y para nombres?\n",
    "# 5. ¿Los ID de las tablas deberían ser INT o BIGINT?\n",
    "\n",
    "# Dame recomendaciones con justificación.}"
   ]
  },
  {
   "cell_type": "markdown",
   "id": "efaa6d13",
   "metadata": {},
   "source": [
    "1. `TEXT` y `VARCHAR` son ambos tipos de datos utilizados para almacenar cadenas de caracteres, pero hay diferencias entre ellos en cuanto a capacidad de almacenamiento y comportamiento. `TEXT`       \n",
    "es un tipo de dato que se utiliza para grandes cadenas de texto (como descripciones largas o bloques de código), mientras que `VARCHAR` se utiliza para cadenas más cortas o medias (como nombres,       \n",
    "apellidos y resúmenes). En este caso, `VARCHAR` sería suficiente para la columna 'resumen' dado que los resúmenes de ponencias no son muy largos.\n",
    "2. `DATE` es un tipo de dato utilizado para almacenar fechas, mientras que `DATETIME` se utiliza para almacenar fechas y horas en formato `YYYY-MM-DD HH:MI:SS`. Si las conferencias solo requieren      \n",
    "almacenar fecha (sin hora), es mejor usar `DATE`. Pero si los eventos pueden tener una duración específica que necesite la hora, entonces se debería utilizar `DATETIME`.\n",
    "3. `ENUM` es un tipo de dato que se utiliza para seleccionar entre una lista limitada de opciones. En este caso, para las columnas 'tipo' en ponencias y 'tipo_registro' en asistentes, sería \n",
    "adecuado usar `ENUM`.\n",
    "4. La longitud del `VARCHAR` para emails dependerá de la política de correo electrónico de la institución académica. Sin embargo, una longitud común es de 255 o 320 caracteres, dados que los \n",
    "dominios suelen ser cortos y las direcciones de email no necesitan una longitud mayor. Para nombres, una longitud de `VARCHAR(100)` sería adecuada para tener espacio suficiente para un nombre \n",
    "completo (nombre y apellidos).\n",
    "5. En la mayoría de los casos, el tipo de dato `INT` es suficiente para almacenar ID's de tablas. Sin embargo, si se espera que las tablas tengan millones o billones de registros, es mejor \n",
    "utilizar `BIGINT`. En este caso, considerando que el número de conferencias y asistentes es probablemente grande pero no excepcionalmente grande, sería suficiente usar `INT`."
   ]
  },
  {
   "cell_type": "code",
   "execution_count": null,
   "id": "8f7c0e34",
   "metadata": {},
   "outputs": [],
   "source": [
    "# >>> Genera el código SQL completo (CREATE TABLE) para el esquema de conferencias académicas.\n",
    "\n",
    "# **Requisitos específicos:**\n",
    "\n",
    "# 1. **Claves primarias:**\n",
    "#    - Todas las tablas deben tener PRIMARY KEY\n",
    "#    - Usar AUTO_INCREMENT para IDs\n",
    "\n",
    "# 2. **Claves foráneas:**\n",
    "#    - Todas las relaciones deben tener FOREIGN KEY explícitas\n",
    "#    - Incluir ON DELETE y ON UPDATE apropiados:\n",
    "#      * ¿Qué pasa si se elimina una conferencia? ¿Se borran sus sesiones?\n",
    "#      * ¿Qué pasa si se elimina un ponente? ¿Se borran sus ponencias?\n",
    "   \n",
    "# 3. **Constraints:**\n",
    "#    - NOT NULL en columnas obligatorias (decide cuáles)\n",
    "#    - UNIQUE donde corresponda (emails, por ejemplo)\n",
    "#    - CHECK constraints para validaciones (fechas, duraciones positivas)\n",
    "#    - DEFAULT values apropiados\n",
    "\n",
    "# 4. **Comentarios:**\n",
    "#    - Añade comentarios SQL (-- o /* */) explicando decisiones importantes\n",
    "#    - Especialmente en tablas intermedias y constraints complejos\n",
    "\n",
    "# 5. **Orden de creación:**\n",
    "#    - Genera las tablas en el orden correcto para evitar errores de FK\n",
    "\n",
    "# Genera el SQL completo ahora."
   ]
  },
  {
   "cell_type": "code",
   "execution_count": null,
   "id": "504695ac",
   "metadata": {},
   "outputs": [],
   "source": []
  }
 ],
 "metadata": {
  "language_info": {
   "name": "python"
  }
 },
 "nbformat": 4,
 "nbformat_minor": 5
}
